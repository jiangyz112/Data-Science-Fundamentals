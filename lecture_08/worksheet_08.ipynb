{
 "cells": [
  {
   "attachments": {},
   "cell_type": "markdown",
   "metadata": {},
   "source": [
    "# Worksheet 08\n",
    "\n",
    "Name: Yuzhe Jiang\n",
    "\n",
    "UID: U92913042\n",
    "\n",
    "Link to my repo: https://github.com/jiangyz112/Data-Science-Fundamentals/tree/worksheet_08\n",
    "\n",
    "### Topics\n",
    "\n",
    "- Soft Clustering\n",
    "- Clustering Aggregation\n",
    "\n",
    "### Probability Review\n",
    "\n",
    "Read through [the following](https://medium.com/@gallettilance/overview-of-probability-3272b72c82c8)\n",
    "\n",
    "### Soft Clustering\n",
    "\n",
    "We generate 10 data points that come from a normal distribution with mean 5 and variance 1."
   ]
  },
  {
   "cell_type": "code",
   "execution_count": null,
   "metadata": {},
   "outputs": [],
   "source": [
    "import random\n",
    "import numpy as np\n",
    "from sklearn.cluster import KMeans\n",
    "\n",
    "mean = 5\n",
    "stdev = 1\n",
    "\n",
    "s1 = np.random.normal(mean, stdev, 10).tolist()\n",
    "print(s1)"
   ]
  },
  {
   "cell_type": "markdown",
   "metadata": {},
   "source": [
    "a) Generate 10 more data points, this time coming from a normal distribution with mean 8 and variance 1."
   ]
  },
  {
   "cell_type": "code",
   "execution_count": null,
   "metadata": {},
   "outputs": [],
   "source": [
    "s2 = np.random.normal(8, 1, 10).tolist()\n",
    "print(s2)"
   ]
  },
  {
   "attachments": {},
   "cell_type": "markdown",
   "metadata": {},
   "source": [
    "b) Flip a fair coin 10 times. If the coin lands on H, then pick the last data point of `s1` and remove it from `s1`, if T then pick the last data point from `s2` and remove it from `s2`. Add these 10 points to a list called `data`."
   ]
  },
  {
   "cell_type": "code",
   "execution_count": null,
   "metadata": {},
   "outputs": [],
   "source": [
    "data = []\n",
    "for i in range(10):\n",
    "    # flip coin\n",
    "    coin_output = random.choice([0, 1])\n",
    "    if coin_output == 0:  # Coin lands on H\n",
    "        p1 = s1.pop()  # Remove and return the last item from s1\n",
    "        data.append(p1)\n",
    "    else:  # Coin lands on T\n",
    "        p2 = s2.pop()  # Remove and return the last item from s2\n",
    "        data.append(p2)\n",
    "print(data)\n"
   ]
  },
  {
   "cell_type": "markdown",
   "metadata": {},
   "source": [
    "c) This `data` is a Gaussian Mixture Distribution with 2 mixture components. Over the next few questions we will walk through the GMM algorithm to see if we can uncover the parameters we used to generate this data. First, please list all these parameters of the GMM that created `data` and the values we know they have."
   ]
  },
  {
   "cell_type": "markdown",
   "metadata": {},
   "source": [
    "Component 1:\n",
    "Mean (μ1): 5 \n",
    "Variance (σ1^2): 1 \n",
    "Mixture Weight (π1): Unknown \n",
    "\n",
    "\n",
    "Component 2:\n",
    "Mean (μ2): 8\n",
    "Variance (σ2^2): 1\n",
    "Mixture Weight (π2): Unknown \n",
    "\n",
    "\n",
    "Number of Components (K): 2 \n",
    "Total Number of Data Points (N): 20 "
   ]
  },
  {
   "cell_type": "markdown",
   "metadata": {},
   "source": [
    "d) Let's assume there are two mixture components (note: we could plot the data and make the observation that there are two clusters). The EM algorithm asks us to start with a random `mean_j`, `variance_j`, `P(S_j)` for each component j. One method we could use to find sensible values for these is to apply K means with k=2 here.\n",
    "\n",
    "1. the centroids would be the estimates of the `mean_j`\n",
    "2. the intra-cluster variance could be the estimate of `variance_j`\n",
    "3. the proportion of points in each cluster could be the estimate of `P(S_j)`\n",
    "\n",
    "Go through this process and list the parameter estimates it gives. Are they close or far from the true values?"
   ]
  },
  {
   "cell_type": "code",
   "execution_count": null,
   "metadata": {},
   "outputs": [],
   "source": [
    "kmeans = KMeans(2, init='k-means++').fit(X=np.array(data).reshape(-1, 1))\n",
    "\n",
    "s1 = [x[0] for x in filter(lambda x: x[1] == 0, zip(data, kmeans.labels_))]\n",
    "print(s1)\n",
    "s2 = [x[0] for x in filter(lambda x: x[1] == 1, zip(data, kmeans.labels_))]\n",
    "print(s2)\n",
    "\n",
    "\n",
    "prob_s = [len(s1) / (len(s1) + len(s2)), len(s2) / (len(s1) + len(s2))]\n",
    "mean_s = [np.mean(s1), np.mean(s2)]\n",
    "var_s = [np.var(s1, ddof=0), np.var(s2, ddof=0)]\n",
    "\n",
    "print(f\"P(S_1) = {prob_s[0]},  P(S_2) = {prob_s[1]}\")\n",
    "print(f\"mean_1 = {mean_s[0]},  mean_2 = {mean_s[1]}\")\n",
    "print(f\"var_1 = {var_s[0]},  var_2 = {var_s[1]}\")\n"
   ]
  },
  {
   "cell_type": "markdown",
   "metadata": {},
   "source": [
    "P(S_1) = 0.4,  P(S_2) = 0.6, Which means that the first component accounts for 40% of the dataset and the second component accounts for 60%.\n",
    "\n",
    "mean_1 = 4.772441743304363,  mean_2 = 8.26583890766299, They are quite close to the true value 5 and 8.\n",
    "\n",
    "var_1 = 0.5648094262922441,  var_2 = 0.3541115604665342, These estimates indicate some degree of bias compared to the true variance1."
   ]
  },
  {
   "cell_type": "markdown",
   "metadata": {},
   "source": [
    "e) For each data point, compute `P(S_j | X_i)`. Comment on which cluster you think each point belongs to based on the estimated probabilities. How does that compare to the truth?"
   ]
  },
  {
   "cell_type": "code",
   "execution_count": null,
   "metadata": {},
   "outputs": [],
   "source": [
    "from scipy.stats import norm\n",
    "\n",
    "prob_s0_x = []  # P(S_0 | X_i)\n",
    "prob_s1_x = []  # P(S_1 | X_i)\n",
    "prob_x = []  # P(X_i)\n",
    "\n",
    "k = 2\n",
    "mean_s = [4.686447898567738, 7.940330366281063]  # Updated mean values from K-means\n",
    "var_s = [0.5023381614641249, 0.377297327876015]  # Updated variance values from K-means\n",
    "prob_s = [0.5, 0.5]  # Mixture probabilities\n",
    "\n",
    "for p in data:\n",
    "    pdf_i = []\n",
    "    for j in range(k):\n",
    "        # P(X_i | S_j)\n",
    "        pdf_i.append(norm.pdf(p, mean_s[j], np.sqrt(var_s[j])))\n",
    "\n",
    "    # P(X_i) = P(S_0)P(X_i | S_0) + P(S_1)P(X_i | S_1)\n",
    "    prob_x_i = prob_s[0] * pdf_i[0] + prob_s[1] * pdf_i[1]\n",
    "    prob_x.append(prob_x_i)\n",
    "\n",
    "    # P(S_j | X_i) = P(X_i | S_j)P(S_j) / P(X_i)\n",
    "    prob_s0_x.append(pdf_i[0] * prob_s[0] / prob_x_i)\n",
    "    prob_s1_x.append(pdf_i[1] * prob_s[1] / prob_x_i)\n",
    "\n",
    "probs = zip(data, prob_s0_x, prob_s1_x)\n",
    "\n",
    "for p in probs:\n",
    "    print(p[0])\n",
    "    print(\"Probability of coming from S_1 = \" + str(p[1]))\n",
    "    print(\"Probability of coming from S_2 = \" + str(p[2]))\n",
    "    print()\n",
    "\n",
    "#8.13, 8.15, 8.35, 6.85, 7.46, 9.08 have a very high probability of belonging to the second cluster.\n",
    "#4.19, 5.95, 6.36, 6.33 have a very high probability of belonging to the first cluster.\n",
    "#Which is similar to the truth."
   ]
  },
  {
   "cell_type": "markdown",
   "metadata": {},
   "source": [
    "f) Having computed `P(S_j | X_i)`, update the estimates of `mean_j`, `var_j`, and `P(S_j)`. How different are these values from the original ones you got from K means? briefly comment."
   ]
  },
  {
   "cell_type": "code",
   "execution_count": null,
   "metadata": {},
   "outputs": [],
   "source": [
    "# Updating the estimates for mean_j, var_j, and P(S_j) based on P(S_j | X_i)\n",
    "prob_c = [sum(prob_s0_x) / len(prob_s0_x), sum(prob_s1_x) / len(prob_s1_x)]\n",
    "mean_updated = [\n",
    "    sum(p * x for p, x in zip(prob_s0_x, data)) / sum(prob_s0_x),\n",
    "    sum(p * x for p, x in zip(prob_s1_x, data)) / sum(prob_s1_x)\n",
    "]\n",
    "var_updated = [\n",
    "    sum(p * (x - mean_updated[0])**2 for p, x in zip(prob_s0_x, data)) / sum(prob_s0_x),\n",
    "    sum(p * (x - mean_updated[1])**2 for p, x in zip(prob_s1_x, data)) / sum(prob_s1_x)\n",
    "]\n",
    "\n",
    "print(f\"P(S_1) = {prob_s[0]},  P(S_2) = {prob_s[1]}\")\n",
    "print(f\"mean_1 = {mean_s[0]},  mean_2 = {mean_s[1]}\")\n",
    "print(f\"var_1 = {var_s[0]},  var_2 = {var_s[1]}\")\n",
    "print()"
   ]
  },
  {
   "cell_type": "markdown",
   "metadata": {},
   "source": [
    "P(S_1) = 0.3999655099972517,  P(S_2) = 0.6000344900027483\n",
    "\n",
    "mean_1 = 4.772889939258388,  mean_2 = 8.265339352710527\n",
    "\n",
    "var_1 = 0.5665935358249932,  var_2 = 0.3557228640015676\n",
    "\n",
    "They are all quiet close to the original ones. But they are all a little more accurate.\n"
   ]
  },
  {
   "cell_type": "markdown",
   "metadata": {},
   "source": [
    "g) Update `P(S_j | X_i)`. Comment on any differences or lack thereof you observe."
   ]
  },
  {
   "cell_type": "code",
   "execution_count": null,
   "metadata": {},
   "outputs": [],
   "source": [
    "# Recomputing P(S_j | X_i) based on the updated estimates of mean_j, var_j, and P(S_j)\n",
    "\n",
    "prob_s0_x_updated = []  # P(S_0 | X_i) updated\n",
    "prob_s1_x_updated = []  # P(S_1 | X_i) updated\n",
    "\n",
    "for p in data:\n",
    "    pdf_i_updated = [\n",
    "        norm.pdf(p, mean_updated[0], np.sqrt(var_updated[0])),\n",
    "        norm.pdf(p, mean_updated[1], np.sqrt(var_updated[1]))\n",
    "    ]\n",
    "\n",
    "    # Recompute P(X_i)\n",
    "    prob_x_i_updated = prob_c[0] * pdf_i_updated[0] + prob_c[1] * pdf_i_updated[1]\n",
    "\n",
    "    # Recompute P(S_j | X_i)\n",
    "    prob_s0_x_updated.append(pdf_i_updated[0] * prob_c[0] / prob_x_i_updated)\n",
    "    prob_s1_x_updated.append(pdf_i_updated[1] * prob_c[1] / prob_x_i_updated)\n",
    "\n",
    "probs_updated = zip(data, prob_s0_x_updated, prob_s1_x_updated)\n",
    "\n",
    "for p in probs_updated:\n",
    "    print(p[0])\n",
    "    print(\"Probability of coming from S_1 = \" + str(p[1]))\n",
    "    print(\"Probability of coming from S_2 = \" + str(p[2]))\n",
    "    print()"
   ]
  },
  {
   "cell_type": "markdown",
   "metadata": {},
   "source": [
    "The output are all very close to original one but fit data distribution more."
   ]
  },
  {
   "cell_type": "markdown",
   "metadata": {},
   "source": [
    "h) Use `P(S_j | X_i)` to create a hard assignment - label each point as belonging to a specific cluster (0 or 1)"
   ]
  },
  {
   "cell_type": "code",
   "execution_count": null,
   "metadata": {},
   "outputs": [],
   "source": [
    "# Creating a hard assignment based on the updated P(S_j | X_i)\n",
    "hard_assignments = [0 if prob_s0 > prob_s1 else 1 for prob_s0, prob_s1 in zip(prob_s0_x_updated, prob_s1_x_updated)]\n",
    "\n",
    "print(hard_assignments)\n"
   ]
  }
 ],
 "metadata": {
  "kernelspec": {
   "display_name": "Python 3",
   "language": "python",
   "name": "python3"
  },
  "language_info": {
   "codemirror_mode": {
    "name": "ipython",
    "version": 3
   },
   "file_extension": ".py",
   "mimetype": "text/x-python",
   "name": "python",
   "nbconvert_exporter": "python",
   "pygments_lexer": "ipython3",
   "version": "3.11.1"
  },
  "orig_nbformat": 4,
  "vscode": {
   "interpreter": {
    "hash": "e7370f93d1d0cde622a1f8e1c04877d8463912d04d973331ad4851f04de6915a"
   }
  }
 },
 "nbformat": 4,
 "nbformat_minor": 2
}
