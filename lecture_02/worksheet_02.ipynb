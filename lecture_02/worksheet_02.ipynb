{
 "cells": [
  {
   "attachments": {},
   "cell_type": "markdown",
   "metadata": {},
   "source": [
    "# Worksheet 02\n",
    "\n",
    "Name:  Yuzhe Jiang\n",
    "\n",
    "UID: U92913042\n",
    "\n",
    "Link to my repo: https://github.com/jiangyz112/Data-Science-Fundamentals/tree/worksheet_02\n",
    "\n",
    "### Topics\n",
    "\n",
    "- Effective Programming\n",
    "\n",
    "### Effective Programming\n",
    "\n",
    "a) What is a drawback of the top down approach?"
   ]
  },
  {
   "cell_type": "markdown",
   "metadata": {},
   "source": [
    "In a top-down approach, the initial focus is on the overall structure and high-level concepts, which may result in a lack of detailed understanding at the lower levels of the system. This will cause side effects at later stages."
   ]
  },
  {
   "cell_type": "markdown",
   "metadata": {},
   "source": [
    "b) What is a drawback of the bottom up approach?"
   ]
  },
  {
   "cell_type": "markdown",
   "metadata": {},
   "source": [
    "Since the bottom-up approach begins with individual components or modules and focuses on gradually integrating them, it will lack of overall coherence."
   ]
  },
  {
   "cell_type": "markdown",
   "metadata": {},
   "source": [
    "c) What are 3 things you can do to have a better debugging experience?"
   ]
  },
  {
   "cell_type": "markdown",
   "metadata": {},
   "source": [
    "Don't panic. Read the error. Re-read your code. Sanity check where you can. Look online for some help. Take breaks."
   ]
  },
  {
   "attachments": {},
   "cell_type": "markdown",
   "metadata": {},
   "source": [
    "d) (Optional) Follow along with the live coding. You can write your code here:"
   ]
  },
  {
   "cell_type": "code",
   "execution_count": null,
   "metadata": {},
   "outputs": [],
   "source": []
  },
  {
   "cell_type": "markdown",
   "metadata": {},
   "source": [
    "## Exercise\n",
    "\n",
    "This exercise will use the [Titanic dataset](https://www.kaggle.com/c/titanic/data) (https://www.kaggle.com/c/titanic/data). Download the file named `train.csv` and place it in the same folder as this notebook.\n",
    "\n",
    "The goal of this exercise is to practice using [pandas](https://pypi.org/project/pandas/) methods. If your:\n",
    "\n",
    "1. code is taking a long time to run\n",
    "2. code involves for loops or while loops\n",
    "3. code spans multiple lines\n",
    "\n",
    "look through the pandas documentation for alternatives. This [cheat sheet](https://pandas.pydata.org/Pandas_Cheat_Sheet.pdf) may come in handy.\n",
    "\n",
    "a) Complete the code below to read in a filepath to the `train.csv` and returns the DataFrame."
   ]
  },
  {
   "cell_type": "code",
   "execution_count": null,
   "metadata": {},
   "outputs": [],
   "source": [
    "import pandas as pd\n",
    "\n",
    "df = pd.read_csv('train.csv')\n",
    "\n",
    "df.describe()"
   ]
  },
  {
   "cell_type": "markdown",
   "metadata": {},
   "source": [
    "b) Complete the code so it returns the number of rows that have at least one empty column value"
   ]
  },
  {
   "cell_type": "code",
   "execution_count": null,
   "metadata": {},
   "outputs": [],
   "source": [
    "rows_with_empty_values = df[df.isnull().any(axis=1)]\n",
    "\n",
    "# Print the count\n",
    "print(\"There are \" + str(len(rows_with_empty_values)) + \" rows with at least one empty value.\")"
   ]
  },
  {
   "cell_type": "markdown",
   "metadata": {},
   "source": [
    "c) Complete the code below to remove all columns with more than 200 NaN values"
   ]
  },
  {
   "cell_type": "code",
   "execution_count": null,
   "metadata": {},
   "outputs": [],
   "source": [
    "df = df.dropna(axis=1, thresh=200)\n",
    "df.columns"
   ]
  },
  {
   "cell_type": "markdown",
   "metadata": {},
   "source": [
    "d) Complete the code below to replaces `male` with 0 and `female` with 1"
   ]
  },
  {
   "cell_type": "code",
   "execution_count": null,
   "metadata": {},
   "outputs": [],
   "source": [
    "df['Sex'] = df['Sex'].replace({'male': 0, 'female': 1})\n",
    "df.head()"
   ]
  },
  {
   "cell_type": "markdown",
   "metadata": {},
   "source": [
    "e) Complete the code below to add four columns `First Name`, `Middle Name`, `Last Name`, and `Title` corresponding to the value in the `name` column.\n",
    "\n",
    "For example: `Braund, Mr. Owen Harris` would be: \n",
    "\n",
    "|First Name | Middle Name | Last Name | Title |\n",
    "|-----------|-------------|-----------|-------|\n",
    "| Owen      |  Harris     |  Braund   | Mr    |\n",
    "\n",
    "Anything not clearly one of the above 4 categories can be ignored."
   ]
  },
  {
   "cell_type": "code",
   "execution_count": null,
   "metadata": {},
   "outputs": [],
   "source": [
    "name_split = df['Name'].str.extract(r'(?P<Last_Name>[\\w\\s]+),\\s(?P<Title>\\w+)\\.\\s(?P<First_Name>[\\w\\s]+)\\s?(?P<Middle_Name>[\\w\\s]+)?')\n",
    "\n",
    "# Assign the extracted values to the new columns\n",
    "df[['First Name', 'Middle Name', 'Last Name', 'Title']] = name_split[['First_Name', 'Middle_Name', 'Last_Name', 'Title']]\n",
    "\n",
    "df.head()"
   ]
  },
  {
   "cell_type": "markdown",
   "metadata": {},
   "source": [
    "f) Complete the code below to replace all missing ages with the average age"
   ]
  },
  {
   "cell_type": "code",
   "execution_count": null,
   "metadata": {},
   "outputs": [],
   "source": [
    "average_age = df['Age'].mean()\n",
    "df['Age'] = df['Age'].fillna(average_age)\n",
    "\n",
    "df.head()"
   ]
  },
  {
   "cell_type": "markdown",
   "metadata": {},
   "source": [
    "g) Plot a bar chart of the average age of those that survived and did not survive. Briefly comment on what you observe."
   ]
  },
  {
   "cell_type": "code",
   "execution_count": null,
   "metadata": {},
   "outputs": [],
   "source": [
    "# Group by 'Survived' and calculate the average age for each group\n",
    "average_age_by_survived = df.groupby('Survived')['Age'].mean()\n",
    "\n",
    "# Plotting the bar chart\n",
    "average_age_by_survived.plot(kind='bar', color=['red', 'green'])\n",
    "plt.title('Average Age by Survival Status')\n",
    "plt.xlabel('Survived')\n",
    "plt.ylabel('Average Age')\n",
    "plt.xticks([0, 1], ['Did not Survive', 'Survived'], rotation=0)\n",
    "plt.show()\n",
    "\n",
    "# Those who did not survive is older than those who did. "
   ]
  }
 ],
 "metadata": {
  "kernelspec": {
   "display_name": "Python 3",
   "language": "python",
   "name": "python3"
  },
  "language_info": {
   "name": "python",
   "version": "3.11.1"
  },
  "orig_nbformat": 4,
  "vscode": {
   "interpreter": {
    "hash": "e7370f93d1d0cde622a1f8e1c04877d8463912d04d973331ad4851f04de6915a"
   }
  }
 },
 "nbformat": 4,
 "nbformat_minor": 2
}
