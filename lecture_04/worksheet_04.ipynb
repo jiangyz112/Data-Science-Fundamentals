{
 "cells": [
  {
   "attachments": {},
   "cell_type": "markdown",
   "metadata": {},
   "source": [
    "# Worksheet 04\n",
    "\n",
    "Name:  Yuzhe Jiang\n",
    "\n",
    "UID: U92913042\n",
    "\n",
    "Link to my repo: https://github.com/jiangyz112/Data-Science-Fundamentals/tree/worksheet_04\n",
    "\n",
    "### Topics\n",
    "\n",
    "- Distance & Similarity"
   ]
  },
  {
   "cell_type": "markdown",
   "metadata": {},
   "source": [
    "### Distance & Similarity\n",
    "\n",
    "#### Part 1\n",
    "\n",
    "a) In the minkowski distance, describe what the parameters p and d are."
   ]
  },
  {
   "cell_type": "markdown",
   "metadata": {},
   "source": [
    "p represents the order of the Minkowski metric. It determines the type of distance being calculated between two points. \n",
    "d typically represents the dimensionality of the space in which the points exist."
   ]
  },
  {
   "cell_type": "markdown",
   "metadata": {},
   "source": [
    "b) In your own words describe the difference between the Euclidean distance and the Manhattan distance."
   ]
  },
  {
   "cell_type": "markdown",
   "metadata": {},
   "source": [
    "Euclidean Distance is often visualized as the straight-line distance between two points in a space. Manhattan Distance, also known as the \"city block\" distance, it reflects the distance between two points when you can only move along gridlines"
   ]
  },
  {
   "attachments": {},
   "cell_type": "markdown",
   "metadata": {},
   "source": [
    "Consider A = (0, 0) and B = (1, 1). When:\n",
    "\n",
    "- p = 1, d(A, B) = 2\n",
    "- p = 2, d(A, B) = $\\sqrt{2} = 1.41$\n",
    "- p = 3, d(A, B) = $2^{1/3} = 1.26$\n",
    "- p = 4, d(A, B) = $2^{1/4} = 1.19$\n",
    "\n",
    "c) Describe what you think distance would look like when p is very large."
   ]
  },
  {
   "cell_type": "markdown",
   "metadata": {},
   "source": [
    "In this particular case, because the difference between the x-coordinates is 1 and the difference between the y-coordinates is also 1, as p gets very large, the Minkowski distance will approach 1, which is the maximum absolute difference between the coordinates of A and B. "
   ]
  },
  {
   "cell_type": "markdown",
   "metadata": {},
   "source": [
    "d) Is the minkowski distance still a distance function when p < 1? Expain why / why not."
   ]
  },
  {
   "cell_type": "markdown",
   "metadata": {},
   "source": [
    "NO. When p<1, the Minkowski distance does not satisfy the triangle inequality and does not define a proper distance function."
   ]
  },
  {
   "cell_type": "markdown",
   "metadata": {},
   "source": [
    "e) when would you use cosine similarity over the euclidan distance?"
   ]
  },
  {
   "cell_type": "markdown",
   "metadata": {},
   "source": [
    "Cosine similarity is particularly useful when the magnitude of the vectors is not important or when normalization for size is necessary to get a better comparison."
   ]
  },
  {
   "cell_type": "markdown",
   "metadata": {},
   "source": [
    "f) what does the jaccard distance account for that the manhattan distance doesn't?"
   ]
  },
  {
   "cell_type": "markdown",
   "metadata": {},
   "source": [
    "The Jaccard distance measures dissimilarity between finite sample sets and is fundamentally different from the Manhattan distance, which measures distance between points in a geometric space."
   ]
  },
  {
   "attachments": {},
   "cell_type": "markdown",
   "metadata": {},
   "source": [
    "#### Part 2\n",
    "\n",
    "Consider the following two sentences:"
   ]
  },
  {
   "cell_type": "code",
   "execution_count": null,
   "metadata": {},
   "outputs": [],
   "source": [
    "s1 = \"hello my name is Alice\"  \n",
    "s2 = \"hello my name is Bob\""
   ]
  },
  {
   "cell_type": "markdown",
   "metadata": {},
   "source": [
    "using the union of words from both sentences, we can represent each sentence as a vector. Each element of the vector represents the presence or absence of the word at that index.\n",
    "\n",
    "In this example, the union of words is (\"hello\", \"my\", \"name\", \"is\", \"Alice\", \"Bob\") so we can represent the above sentences as such:"
   ]
  },
  {
   "cell_type": "code",
   "execution_count": null,
   "metadata": {},
   "outputs": [],
   "source": [
    "v1 = [1,    1, 1,   1, 1,    0]\n",
    "#     hello my name is Alice\n",
    "v2 = [1,    1, 1,   1, 0, 1]\n",
    "#     hello my name is    Bob"
   ]
  },
  {
   "attachments": {},
   "cell_type": "markdown",
   "metadata": {},
   "source": [
    "Programmatically, we can do the following:"
   ]
  },
  {
   "cell_type": "code",
   "execution_count": null,
   "metadata": {},
   "outputs": [
    {
     "name": "stdout",
     "output_type": "stream",
     "text": [
      "['hello', 'Bob', 'is', 'name', 'my', 'Alice']\n",
      "[1, 0, 1, 1, 1, 1]\n"
     ]
    }
   ],
   "source": [
    "corpus = [s1, s2]\n",
    "all_words = list(set([item for x in corpus for item in x.split()]))\n",
    "print(all_words)\n",
    "v1 = [1 if x in s1 else 0 for x in all_words]\n",
    "print(v1)"
   ]
  },
  {
   "cell_type": "markdown",
   "metadata": {},
   "source": [
    "Let's add a new sentence to our corpus:"
   ]
  },
  {
   "cell_type": "code",
   "execution_count": null,
   "metadata": {},
   "outputs": [],
   "source": [
    "s3 = \"hi my name is Claude\"\n",
    "corpus.append(s3)"
   ]
  },
  {
   "cell_type": "markdown",
   "metadata": {},
   "source": [
    "a) What is the new union of words used to represent s1, s2, and s3?"
   ]
  },
  {
   "cell_type": "code",
   "execution_count": null,
   "metadata": {},
   "outputs": [],
   "source": [
    " (\"hello\", \"my\", \"Bob\", \"Claude\", \"Alice\", \"hi\", \"is\", \"name\")"
   ]
  },
  {
   "attachments": {},
   "cell_type": "markdown",
   "metadata": {},
   "source": [
    "b) Represent s1, s2, and s3 as vectors as above, using this new set of words."
   ]
  },
  {
   "cell_type": "code",
   "execution_count": null,
   "metadata": {},
   "outputs": [],
   "source": [
    "For s1 (\"hello my name is Alice\"): [1, 1, 0, 0, 1, 0, 1, 1]\n",
    "For s2 (\"hello my name is Bob\"): [1, 1, 1, 0, 0, 0, 1, 1]\n",
    "For s3 (\"hi my name is Claude\"): [0, 1, 0, 1, 0, 1, 1, 1]"
   ]
  },
  {
   "cell_type": "markdown",
   "metadata": {},
   "source": [
    "c) Write a function that computes the manhattan distance between two vectors. Which pair of vectors are the most similar under that distance function?"
   ]
  },
  {
   "cell_type": "code",
   "execution_count": null,
   "metadata": {},
   "outputs": [],
   "source": [
    "def manhattan_distance(vector1, vector2):\n",
    "    \"\"\"\n",
    "    Compute the Manhattan distance between two vectors.\n",
    "    \"\"\"\n",
    "    # Ensure that the vectors are the same length\n",
    "    if len(vector1) != len(vector2):\n",
    "        raise ValueError(\"Vectors must be of same length to compute Manhattan distance.\")\n",
    "    \n",
    "    # Calculate the Manhattan distance\n",
    "    distance = sum(abs(a - b) for a, b in zip(vector1, vector2))\n",
    "    return distance\n",
    "\n",
    "# The pair of vectors that are the most similar under the Manhattan distance function is s1 and s2, with the smallest distance of 2."
   ]
  },
  {
   "cell_type": "markdown",
   "metadata": {},
   "source": [
    "The pair of vectors that are the most similar under the Manhattan distance function is s1 and s2, with the smallest distance of 2."
   ]
  },
  {
   "cell_type": "markdown",
   "metadata": {},
   "source": [
    "d) Create a matrix of all these vectors (row major) and add the following sentences in vector form:\n",
    "\n",
    "- \"hi Alice\"\n",
    "- \"hello Claude\"\n",
    "- \"Bob my name is Claude\"\n",
    "- \"hi Claude my name is Alice\"\n",
    "- \"hello Bob\""
   ]
  },
  {
   "cell_type": "code",
   "execution_count": null,
   "metadata": {},
   "outputs": [],
   "source": [
    "[\n",
    " [1, 1, 0, 0, 1, 0, 1, 1],  # hello my name is Alice\n",
    " [1, 1, 1, 0, 0, 0, 1, 1],  # hello my name is Bob\n",
    " [0, 1, 0, 1, 0, 1, 1, 1],  # hi my name is Claude\n",
    " [0, 0, 0, 0, 1, 1, 0, 0],  # hi Alice\n",
    " [1, 0, 0, 1, 0, 0, 0, 0],  # hello Claude\n",
    " [0, 1, 1, 1, 0, 0, 1, 1],  # Bob my name is Claude\n",
    " [0, 1, 0, 1, 1, 1, 1, 1],  # hi Claude my name is Alice\n",
    " [1, 0, 1, 0, 0, 0, 0, 0]   # hello Bob\n",
    "]"
   ]
  },
  {
   "cell_type": "markdown",
   "metadata": {},
   "source": [
    "e) How many rows and columns does this matrix have?"
   ]
  },
  {
   "cell_type": "code",
   "execution_count": null,
   "metadata": {},
   "outputs": [],
   "source": [
    "The matrix has 8 rows and 8 columns."
   ]
  },
  {
   "attachments": {},
   "cell_type": "markdown",
   "metadata": {},
   "source": [
    "f) When using the Manhattan distance, which two sentences are the most similar?"
   ]
  },
  {
   "cell_type": "code",
   "execution_count": null,
   "metadata": {},
   "outputs": [],
   "source": [
    "row 3 and 8"
   ]
  },
  {
   "cell_type": "markdown",
   "metadata": {},
   "source": [
    "#### Part 3 Challenge"
   ]
  },
  {
   "cell_type": "markdown",
   "metadata": {},
   "source": [
    "Given a set of graphs $\\mathcal{G}$, each graph $G \\in \\mathcal{G}$ is defined over the same set of nodes $V$. The graphs are represented by their adjacency matrices, which are 2D arrays where each element indicates whether a pair of nodes is connected by an edge.\n",
    "\n",
    "Your task is to compute the pairwise distances between these graphs based on a specific distance metric. The distance $d(G, G')$ between two graphs $G = (V, E)$ and $G' = (V, E')$ is defined as the sum of the number of edges in $G$ but not in $G'$, and the number of edges in $G'$ but not in $G$. Mathematically, this can be expressed as:\n",
    "\n",
    "$$\n",
    "d(G, G') = |E \\setminus E'| + |E' \\setminus E|.\n",
    "$$\n",
    "\n",
    "##### Requirements:\n",
    "1. **Input**: Should take a list of 2D numpy arrays as input. Each array represents the adjacency matrix of a graph.\n",
    "\n",
    "2. **Output**: Should output a pairwise distance matrix. If there are $n$ graphs in the input list, the output should be an $n \\times n$ matrix where the entry at position $(i, j)$ represents the distance between the $i^{th}$ and $j^{th}$ graph."
   ]
  },
  {
   "cell_type": "code",
   "execution_count": null,
   "metadata": {},
   "outputs": [],
   "source": [
    "import numpy as np\n",
    "\n",
    "def compute_graph_distance_matrices(graphs):\n",
    "    \"\"\"\n",
    "    Compute the pairwise distances between a list of graphs represented by their adjacency matrices.\n",
    "    \n",
    "    Parameters:\n",
    "    graphs (list of np.array): List of 2D numpy arrays representing the adjacency matrices of the graphs.\n",
    "    \n",
    "    Returns:\n",
    "    np.array: A 2D numpy array representing the pairwise distance matrix.\n",
    "    \"\"\"\n",
    "    num_graphs = len(graphs)\n",
    "    # Initialize the distance matrix with zeros\n",
    "    distance_matrix = np.zeros((num_graphs, num_graphs), dtype=int)\n",
    "    \n",
    "    # Compute pairwise distances\n",
    "    for i in range(num_graphs):\n",
    "        for j in range(i + 1, num_graphs):\n",
    "            # Calculate the distance based on the given metric\n",
    "            distance = np.sum(np.abs(graphs[i] - graphs[j]))\n",
    "            distance_matrix[i, j] = distance\n",
    "            distance_matrix[j, i] = distance  # The distance matrix is symmetric\n",
    "    \n",
    "    return distance_matrix\n",
    "\n",
    "# Example usage:\n",
    "# Assume we have three graphs represented by their adjacency matrices\n",
    "graph1 = np.array([[0, 1], [1, 0]])\n",
    "graph2 = np.array([[0, 0], [0, 0]])\n",
    "graph3 = np.array([[0, 1], [0, 0]])\n",
    "\n",
    "# Compute the pairwise distance matrix\n",
    "graphs = [graph1, graph2, graph3]\n",
    "distance_matrix = compute_graph_distance_matrices(graphs)\n",
    "distance_matrix"
   ]
  },
  {
   "cell_type": "code",
   "execution_count": null,
   "metadata": {},
   "outputs": [],
   "source": [
    "Output:\n",
    "\n",
    "array([[0, 2, 1],\n",
    "       [2, 0, 1],\n",
    "       [1, 1, 0]])"
   ]
  }
 ],
 "metadata": {
  "kernelspec": {
   "display_name": "Python 3",
   "language": "python",
   "name": "python3"
  },
  "language_info": {
   "codemirror_mode": {
    "name": "ipython",
    "version": 3
   },
   "file_extension": ".py",
   "mimetype": "text/x-python",
   "name": "python",
   "nbconvert_exporter": "python",
   "pygments_lexer": "ipython3",
   "version": "3.11.1"
  },
  "orig_nbformat": 4,
  "vscode": {
   "interpreter": {
    "hash": "76ca05dc3ea24b2e3b98cdb7774adfbb40773424bf5109b477fd793f623715af"
   }
  }
 },
 "nbformat": 4,
 "nbformat_minor": 2
}
